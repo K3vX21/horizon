{
 "cells": [
  {
   "cell_type": "code",
   "execution_count": 2,
   "metadata": {},
   "outputs": [],
   "source": [
    "import imageio.v3 as iio\n",
    "import matplotlib.pyplot as plt\n",
    "import requests\n",
    "import numpy as np\n",
    "%matplotlib inline\n"
   ]
  },
  {
   "cell_type": "code",
   "execution_count": 3,
   "metadata": {},
   "outputs": [],
   "source": [
    "api_url = \"https://www.flickr.com/services/rest/?method=flickr.photos.search&api_key=f8ac40eee0aacfa3be6dee0cbac63930\" +\\\n",
    "            \"&tags=sunset\" +\\\n",
    "            \"&text=sunset%20landscape\" +\\\n",
    "            \"&content_type=1\" +\\\n",
    "            \"&has_geo=1\" +\\\n",
    "            \"&sort=interestingness-desc\" +\\\n",
    "            \"&extras=date_taken%2C+geo%2C+url_o\" +\\\n",
    "            \"&format=json&nojsoncallback=1\"\n",
    "            # \"&is_getty=1\" +\\             \n",
    "\n",
    "res = requests.get(api_url)\n",
    "res = res.json()"
   ]
  },
  {
   "cell_type": "code",
   "execution_count": 4,
   "metadata": {},
   "outputs": [
    {
     "data": {
      "text/plain": [
       "'\\nfig = plt.figure(figsize=(10, 5))\\nrows = 2\\ncols = 5\\n\\nfor i in range(10):\\n    # get and load pic\\n    photo = res[\\'photos\\'][\\'photo\\'][i]\\n    print(photo[\\'title\\'])\\n    # print(photo[\"url_o\"])\\n    imgUrl = f\\'https://live.staticflickr.com/{photo[\"server\"]}/{photo[\"id\"]}_{photo[\"secret\"]}_b.jpg\\'\\n    aPic = iio.imread(imgUrl)\\n\\n    # add aPic to fig\\n    fig.add_subplot(rows, cols, i+1)\\n    plt.imshow(pic) \\n'"
      ]
     },
     "execution_count": 4,
     "metadata": {},
     "output_type": "execute_result"
    }
   ],
   "source": [
    "# look at later for batch processing\n",
    "'''\n",
    "fig = plt.figure(figsize=(10, 5))\n",
    "rows = 2\n",
    "cols = 5\n",
    "\n",
    "for i in range(10):\n",
    "    # get and load pic\n",
    "    photo = res['photos']['photo'][i]\n",
    "    print(photo['title'])\n",
    "    # print(photo[\"url_o\"])\n",
    "    imgUrl = f'https://live.staticflickr.com/{photo[\"server\"]}/{photo[\"id\"]}_{photo[\"secret\"]}_b.jpg'\n",
    "    aPic = iio.imread(imgUrl)\n",
    "\n",
    "    # add aPic to fig\n",
    "    fig.add_subplot(rows, cols, i+1)\n",
    "    plt.imshow(pic) \n",
    "'''"
   ]
  },
  {
   "cell_type": "code",
   "execution_count": 5,
   "metadata": {},
   "outputs": [
    {
     "data": {
      "text/plain": [
       "<Figure size 720x720 with 0 Axes>"
      ]
     },
     "metadata": {},
     "output_type": "display_data"
    }
   ],
   "source": [
    "aPhoto = res['photos']['photo'][0]\n",
    "aImgUrl = f'https://live.staticflickr.com/{aPhoto[\"server\"]}/{aPhoto[\"id\"]}_{aPhoto[\"secret\"]}_b.jpg'\n",
    "aFig = plt.figure(figsize=(10, 10))\n",
    "aPic = iio.imread(aImgUrl)"
   ]
  },
  {
   "cell_type": "code",
   "execution_count": 7,
   "metadata": {},
   "outputs": [
    {
     "name": "stdout",
     "output_type": "stream",
     "text": [
      "Shape of the image : (613, 1024)\n",
      "[165768 155438 449681 ... 430430 181201 570386]\n",
      "156928\n",
      "(613, 1024)\n",
      "(array([161, 151, 439, ..., 420, 176, 557], dtype=int64), array([904, 814, 145, ..., 350, 977,  18], dtype=int64))\n"
     ]
    }
   ],
   "source": [
    "# random.seed(1)\n",
    "print('Shape of the image : {}'.format(aPic[:,:,0].shape)) \n",
    "# print('Type of the image : ' , type(pic))\n",
    "# print('Shape of the image : {}'.format(pic.shape)) \n",
    "# print('Image Hight {}'.format(pic.shape[0])) \n",
    "# print('Image Width {}'.format(pic.shape[1])) \n",
    "# print('Dimension of Image {}'.format(pic.ndim))\n",
    "\n",
    "\n",
    "# get random selection of pixels from image to analyze\n",
    "indices = np.random.choice(aPic.shape[1]*aPic.shape[0], replace=False, size=int(aPic.shape[1]*aPic.shape[0]*.25))\n",
    "print(indices)\n",
    "print(indices.size)\n",
    "print(aPic[:,:,0].shape)\n",
    "print(np.unravel_index(indices, aPic[:,:,0].shape)) # how to unravel randomized indexes?\n",
    "# sampledPic = aPic[np.unravel_index(indices, aPic[:,:,0].shape), :]\n",
    "# print(sampledPic.shape)\n",
    "# aPic[1,1].shape\n",
    "# get amount of pixels with certain hue | amount of red "
   ]
  }
 ],
 "metadata": {
  "kernelspec": {
   "display_name": "Python 3.10.5 64-bit",
   "language": "python",
   "name": "python3"
  },
  "language_info": {
   "codemirror_mode": {
    "name": "ipython",
    "version": 3
   },
   "file_extension": ".py",
   "mimetype": "text/x-python",
   "name": "python",
   "nbconvert_exporter": "python",
   "pygments_lexer": "ipython3",
   "version": "3.10.5"
  },
  "orig_nbformat": 4,
  "vscode": {
   "interpreter": {
    "hash": "369f2c481f4da34e4445cda3fffd2e751bd1c4d706f27375911949ba6bb62e1c"
   }
  }
 },
 "nbformat": 4,
 "nbformat_minor": 2
}
